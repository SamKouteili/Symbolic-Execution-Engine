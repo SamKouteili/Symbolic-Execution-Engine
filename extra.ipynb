{
 "cells": [
  {
   "cell_type": "markdown",
   "metadata": {},
   "source": [
    "General Overview:\n",
    "\n",
    "1. Parse program `argv n` times to list of `(prog, i) : BLOCK * Int`.\n",
    "    - `BLOCK = list[SMTM]`\n",
    "    - `i` is number of unravellings of loops (need to consider cases 0 to `argv n`)\n",
    "    - Convert to static single assignment (i.e each var instance is unique)\n",
    "2. Create list of symbolic execution outcomes of each `(prog, n)` as `(P, C) : z3.formula * z3.formula`\n",
    "    - Each if statement creates a new element in the list (i.e. function will be recursive, each if statement creates two branches of the function concatenated together)\n",
    "3. Solve each `(P, C)` by passing `!P && C` through z3.\n",
    "    - if `SAT`, need to find example output that does not work. z3 already provides this. \n",
    "\n"
   ]
  },
  {
   "cell_type": "code",
   "execution_count": null,
   "metadata": {},
   "outputs": [],
   "source": [
    "import typing\n",
    "\n",
    "# stmt := x \":=\" AEXP \";\"\n",
    "# | x, y := AEXP \",\" AEXP \";\"\n",
    "# | x \"[\" AEXP \"]\" \":=\" AEXP \";\"\n",
    "# | \"if\" BEXP \"then\" BLOCK \"else\" BLOCK \"end\"\n",
    "# | \"if\" BEXP \"then\" BLOCK \"end\"\n",
    "# | \"while\" BEXP \"do\" BLOCK \"end\"\n",
    "# | \"assert\" ASSN \";\"\n",
    "block = list[stmt]\n",
    "\n",
    "\n",
    "\n",
    "def see() :\n",
    "    parsedProg : list[block, int] = parse(program)\n",
    "    noViolations = True\n",
    "    for (prog, n) in parsedProg :\n",
    "        for symbOut in symbolic_outcomes(prog, z3.true(), z3.true()) : # formula with just true\n",
    "            s = Tactic('smt').solver()\n",
    "            s.add(symbOut)\n",
    "            if s.check() == sat :\n",
    "                noViolations = False\n",
    "                print_true_vars(s.model()) # double check\n",
    "                break # needs to break out of inner for-loop\n",
    "    \n",
    "    if noViolations :\n",
    "        print(\"No Violations Found\")\n",
    "\n",
    "            "
   ]
  },
  {
   "cell_type": "code",
   "execution_count": 9,
   "metadata": {},
   "outputs": [],
   "source": [
    "VARS : dict = {}\n",
    "\n",
    "# for parser\n",
    "def addvar(var : str) -> str :\n",
    "    if var in VARS :\n",
    "        VARS[var] += 1\n",
    "        return var + str(VARS[var])\n",
    "    else :\n",
    "        VARS[var] = 0\n",
    "        return var + '0'\n",
    "\n",
    "\n",
    "\n",
    "\n"
   ]
  },
  {
   "cell_type": "code",
   "execution_count": 47,
   "metadata": {},
   "outputs": [
    {
     "data": {
      "text/plain": [
       "2"
      ]
     },
     "execution_count": 47,
     "metadata": {},
     "output_type": "execute_result"
    }
   ],
   "source": [
    "def symbolic_outcomes(blk : block, accl, accr : z3.formula) -> list[z3.formula] :\n",
    "    if len(blk) == 0 :\n",
    "        return [Implies(accl, accr)]\n",
    "    else :\n",
    "        hd = blk[0]\n",
    "        if (isinstance(hd, IF)) : # placeholder class syntax for now\n",
    "            symbolic_outcomes(blk[-1], And(accl, hd.ifcond), And(accr, hd.then)) + \\\n",
    "                symbolic_outcomes(blk[-1], And(accl, Not(hd.ifcond)), And(accr, hd.els))\n",
    "        elif (isinstance(hd, ASSRT)) :\n",
    "            symbolic_outcomes(blk[-1], accl, And(accr, Not(hd.cond))) # not sure about this\n",
    "        elif (isinstance(hd, ASSGN)) :\n",
    "            symbolic_outcomes(blk[-1], accl, And(accr, hd.cond)) # cond is just assignment here"
   ]
  },
  {
   "cell_type": "code",
   "execution_count": null,
   "metadata": {},
   "outputs": [],
   "source": [
    "def print_true_vars(m : z3.model) :\n",
    "    acc = []\n",
    "    for d in m.decls():\n",
    "        if d.name[-1] == \"0\" && d.name[-2] #is not number :\n",
    "            acc += m[d]\n",
    "    print(PROGRAM_NAME, acc)"
   ]
  },
  {
   "cell_type": "code",
   "execution_count": 78,
   "metadata": {},
   "outputs": [
    {
     "name": "stdout",
     "output_type": "stream",
     "text": [
      "<class 'function'>\n",
      "string_list conforms to string_list_class\n"
     ]
    }
   ],
   "source": [
    "from typing import *\n",
    "from typeguard import check_type\n",
    "\n",
    "STMT = Union[int, str]\n",
    "\n",
    "x : STMT = 2\n",
    "\n",
    "UserId = NewType('IF', int)\n",
    "\n",
    "print(type(UserId))\n",
    "\n",
    "try:\n",
    "    check_type('if', x, int)\n",
    "    print(\"string_list conforms to string_list_class\")\n",
    "except TypeError:\n",
    "    print(\"string_list does not conform to string_list_class\")"
   ]
  },
  {
   "cell_type": "code",
   "execution_count": 70,
   "metadata": {},
   "outputs": [
    {
     "name": "stdout",
     "output_type": "stream",
     "text": [
      "Defaulting to user installation because normal site-packages is not writeable\n",
      "Collecting typeguard\n",
      "  Downloading typeguard-2.13.3-py3-none-any.whl (17 kB)\n",
      "Installing collected packages: typeguard\n",
      "Successfully installed typeguard-2.13.3\n"
     ]
    }
   ],
   "source": [
    "!pip install typeguard"
   ]
  },
  {
   "cell_type": "code",
   "execution_count": 25,
   "metadata": {},
   "outputs": [
    {
     "data": {
      "text/plain": [
       "<module 'z3' from '/home/sam/.local/lib/python3.9/site-packages/z3/__init__.py'>"
      ]
     },
     "execution_count": 25,
     "metadata": {},
     "output_type": "execute_result"
    }
   ],
   "source": [
    "from z3 import z3core\n",
    "z3"
   ]
  },
  {
   "cell_type": "code",
   "execution_count": 28,
   "metadata": {},
   "outputs": [
    {
     "ename": "NameError",
     "evalue": "name 'Solver' is not defined",
     "output_type": "error",
     "traceback": [
      "\u001b[0;31m---------------------------------------------------------------------------\u001b[0m",
      "\u001b[0;31mNameError\u001b[0m                                 Traceback (most recent call last)",
      "\u001b[1;32mUntitled-1.ipynb Cell 4'\u001b[0m in \u001b[0;36m<cell line: 10>\u001b[0;34m()\u001b[0m\n\u001b[1;32m      <a href='vscode-notebook-cell:Untitled-1.ipynb?jupyter-notebook#ch0000003untitled?line=6'>7</a>\u001b[0m     y \u001b[39m=\u001b[39m Int(\u001b[39m'\u001b[39m\u001b[39my\u001b[39m\u001b[39m'\u001b[39m)\n\u001b[1;32m      <a href='vscode-notebook-cell:Untitled-1.ipynb?jupyter-notebook#ch0000003untitled?line=7'>8</a>\u001b[0m     s\u001b[39m.\u001b[39madd(x \u001b[39m<\u001b[39m \u001b[39m10\u001b[39m)\n\u001b[0;32m---> <a href='vscode-notebook-cell:Untitled-1.ipynb?jupyter-notebook#ch0000003untitled?line=9'>10</a>\u001b[0m main()\n",
      "\u001b[1;32mUntitled-1.ipynb Cell 4'\u001b[0m in \u001b[0;36mmain\u001b[0;34m()\u001b[0m\n\u001b[1;32m      <a href='vscode-notebook-cell:Untitled-1.ipynb?jupyter-notebook#ch0000003untitled?line=2'>3</a>\u001b[0m \u001b[39mdef\u001b[39;00m \u001b[39mmain\u001b[39m(): \n\u001b[0;32m----> <a href='vscode-notebook-cell:Untitled-1.ipynb?jupyter-notebook#ch0000003untitled?line=4'>5</a>\u001b[0m     s \u001b[39m=\u001b[39m Solver()\n\u001b[1;32m      <a href='vscode-notebook-cell:Untitled-1.ipynb?jupyter-notebook#ch0000003untitled?line=5'>6</a>\u001b[0m     x \u001b[39m=\u001b[39m Int(\u001b[39m'\u001b[39m\u001b[39mx\u001b[39m\u001b[39m'\u001b[39m)\n\u001b[1;32m      <a href='vscode-notebook-cell:Untitled-1.ipynb?jupyter-notebook#ch0000003untitled?line=6'>7</a>\u001b[0m     y \u001b[39m=\u001b[39m Int(\u001b[39m'\u001b[39m\u001b[39my\u001b[39m\u001b[39m'\u001b[39m)\n",
      "\u001b[0;31mNameError\u001b[0m: name 'Solver' is not defined"
     ]
    }
   ],
   "source": [
    "from z3 import *\n",
    " \n",
    "def main(): \n",
    "    \n",
    "    s = Solver()\n",
    "    x = Int('x')\n",
    "    y = Int('y')\n",
    "    s.add(x < 10)\n",
    "\n",
    "main()"
   ]
  },
  {
   "cell_type": "code",
   "execution_count": 44,
   "metadata": {},
   "outputs": [
    {
     "data": {
      "text/plain": [
       "0"
      ]
     },
     "execution_count": 44,
     "metadata": {},
     "output_type": "execute_result"
    }
   ],
   "source": [
    "a = []\n",
    "len(a)"
   ]
  },
  {
   "cell_type": "code",
   "execution_count": 95,
   "metadata": {},
   "outputs": [
    {
     "ename": "ImportError",
     "evalue": "cannot import name 'Int' from 'z3' (/home/sam/.local/lib/python3.9/site-packages/z3/__init__.py)",
     "output_type": "error",
     "traceback": [
      "\u001b[0;31m---------------------------------------------------------------------------\u001b[0m",
      "\u001b[0;31mImportError\u001b[0m                               Traceback (most recent call last)",
      "\u001b[1;32mUntitled-1.ipynb Cell 11'\u001b[0m in \u001b[0;36m<cell line: 1>\u001b[0;34m()\u001b[0m\n\u001b[0;32m----> <a href='vscode-notebook-cell:Untitled-1.ipynb?jupyter-notebook#ch0000006untitled?line=0'>1</a>\u001b[0m \u001b[39mfrom\u001b[39;00m \u001b[39mz3\u001b[39;00m \u001b[39mimport\u001b[39;00m Int\n",
      "\u001b[0;31mImportError\u001b[0m: cannot import name 'Int' from 'z3' (/home/sam/.local/lib/python3.9/site-packages/z3/__init__.py)"
     ]
    }
   ],
   "source": [
    "from z3 import Int\n"
   ]
  }
 ],
 "metadata": {
  "interpreter": {
   "hash": "f9f85f796d01129d0dd105a088854619f454435301f6ffec2fea96ecbd9be4ac"
  },
  "kernelspec": {
   "display_name": "Python 3.9.12 64-bit",
   "language": "python",
   "name": "python3"
  },
  "language_info": {
   "codemirror_mode": {
    "name": "ipython",
    "version": 3
   },
   "file_extension": ".py",
   "mimetype": "text/x-python",
   "name": "python",
   "nbconvert_exporter": "python",
   "pygments_lexer": "ipython3",
   "version": "3.9.12"
  },
  "orig_nbformat": 4
 },
 "nbformat": 4,
 "nbformat_minor": 2
}
